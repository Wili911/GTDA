{
 "cells": [
  {
   "cell_type": "code",
   "execution_count": 1,
   "metadata": {},
   "outputs": [],
   "source": [
    "using HomotopyContinuation"
   ]
  },
  {
   "cell_type": "code",
   "execution_count": 43,
   "metadata": {},
   "outputs": [
    {
     "data": {
      "text/plain": [
       "false"
      ]
     },
     "execution_count": 43,
     "metadata": {},
     "output_type": "execute_result"
    }
   ],
   "source": [
    "PRINT_ROOTS = false # Output roots to console"
   ]
  },
  {
   "cell_type": "markdown",
   "metadata": {},
   "source": [
    "# Initialize system"
   ]
  },
  {
   "cell_type": "code",
   "execution_count": 143,
   "metadata": {},
   "outputs": [
    {
     "data": {
      "text/plain": [
       "System of length 3\n",
       " 3 variables: x₁, x₂, x₃\n",
       "\n",
       " x₁ + x₂ + x₃\n",
       " x₂*x₁ + x₂*x₃ + x₃*x₁\n",
       " -1 + x₂*x₃*x₁"
      ]
     },
     "execution_count": 143,
     "metadata": {},
     "output_type": "execute_result"
    }
   ],
   "source": [
    "@var x[1:3]\n",
    "F = System([x[1]+x[2]+x[3], x[1]*x[2]+x[2]*x[3]+x[1]*x[3], x[1]*x[2]*x[3]-1])"
   ]
  },
  {
   "cell_type": "markdown",
   "metadata": {},
   "source": [
    "##### Until seeding is implemented, solve the system to obtain a seed"
   ]
  },
  {
   "cell_type": "code",
   "execution_count": 6,
   "metadata": {},
   "outputs": [
    {
     "data": {
      "text/plain": [
       "Result with 6 solutions\n",
       "=======================\n",
       "• 6 paths tracked\n",
       "• 6 non-singular solutions (0 real)\n",
       "• random_seed: 0x73a68735\n",
       "• start_system: :polyhedral\n"
      ]
     },
     "execution_count": 6,
     "metadata": {},
     "output_type": "execute_result"
    }
   ],
   "source": [
    "#result = solve(F)"
   ]
  },
  {
   "cell_type": "code",
   "execution_count": 3,
   "metadata": {},
   "outputs": [
    {
     "data": {
      "text/plain": [
       "3-element Vector{ComplexF64}:\n",
       " -0.5 - 0.8660254037844387im\n",
       "  1.0 + 1.6709233623178546e-17im\n",
       " -0.5 + 0.8660254037844387im"
      ]
     },
     "execution_count": 3,
     "metadata": {},
     "output_type": "execute_result"
    }
   ],
   "source": [
    "#seed = results(result)[1].solution\n",
    "seed = [-0.5 - 0.8660254037844387im, 1.0 + 1.6709233623178546e-17im, -0.5 + 0.8660254037844387im]"
   ]
  },
  {
   "cell_type": "markdown",
   "metadata": {},
   "source": [
    "##### Auxiliary functions"
   ]
  },
  {
   "cell_type": "code",
   "execution_count": 44,
   "metadata": {},
   "outputs": [
    {
     "data": {
      "text/plain": [
       "createEdge (generic function with 3 methods)"
      ]
     },
     "execution_count": 44,
     "metadata": {},
     "output_type": "execute_result"
    }
   ],
   "source": [
    "using Random\n",
    "rng = MersenneTwister()  # Create a random number generator\n",
    "\n",
    "function vprod(a, b)\n",
    "    # Multiplies two matrices\n",
    "    res = 0\n",
    "    for i in 1:length(a)\n",
    "        res += a[i]*b[i]\n",
    "    end\n",
    "    return res\n",
    "end\n",
    "\n",
    "function generate_generic_points(N)\n",
    "    numbers = Array{Complex{Float64}}(undef, N)  # Initialize an array of Complex{Float64}\n",
    "    for i in 1:N\n",
    "        real_part = rand(rng, -1.0:0.01:1.0)  # Generate a random real part between -1 and 1\n",
    "        imag_part = rand(rng, -1.0:0.01:1.0)  # Generate a random imaginary part between -1 and 1\n",
    "        numbers[i] = complex(real_part, imag_part)  # Create a complex number\n",
    "    end\n",
    "\n",
    "    return numbers\n",
    "end\n",
    "\n",
    "function generate_generic_coefficients()\n",
    "    N_list = [3, 3, 2]\n",
    "    random_coefficients = []\n",
    "\n",
    "    for i in 1:length(N_list)\n",
    "        N = N_list[i]\n",
    "        coefficients = Array{Complex{Float64}}(undef, N)  # Initialize an array of Complex{Float64}\n",
    "        for i in 1:N\n",
    "            real_part = rand(rng, -1.0:0.01:1.0)  # Generate a random real part between -1 and 1\n",
    "            imag_part = rand(rng, -1.0:0.01:1.0)  # Generate a random imaginary part between -1 and 1\n",
    "            coefficients[i] = complex(real_part, imag_part)  # Create a complex number\n",
    "        end\n",
    "        push!(random_coefficients, coefficients)\n",
    "    end\n",
    "    return random_coefficients\n",
    "end\n",
    "\n",
    "function get_pol_expression(coefficients, x)\n",
    "    eq1 = vprod(x[1:3], coefficients[1])\n",
    "    eq2 = vprod([x[1]*x[2], x[2]*x[3], x[1]*x[3]], coefficients[2])\n",
    "    eq3 = x[1]*x[2]*x[3]*coefficients[3][1] + coefficients[3][2]\n",
    "    equations = [eq1, eq2, eq3]\n",
    "    return System(equations)\n",
    "end\n",
    "\n",
    "function create_random_polynomial(x)\n",
    "    # Given a support and coefficients, creates a random polynomial\n",
    "    # Returns a polynomial in x\n",
    "    random_coefficients = generate_generic_coefficients()\n",
    "    return get_pol_expression(random_coefficients, x)\n",
    "end\n",
    "\n",
    "function nest_list(list)\n",
    "    # Given a list returns the list of each member as a one element list\n",
    "    return [[list[i]] for i in 1:length(list)]\n",
    "end\n",
    "\n",
    "function print_vector(vector::Vector{Vector{ComplexF64}}, sentence=\"\")\n",
    "    string_vector = [string(x[1]) for x in vector]\n",
    "    println(sentence,join(string_vector, \", \"))\n",
    "end\n",
    "\n",
    "function print_solutions(solutions, sentenceS=\"\", sentenceE=\"\")\n",
    "    if !PRINT_ROOTS\n",
    "        return\n",
    "    end\n",
    "\n",
    "    result = \"\"\n",
    "    for sol in solutions\n",
    "        result *= \"\\n - \"\n",
    "        sol_string = [string(x) for x in sol]\n",
    "        result *= join(sol_string, \", \")\n",
    "    end\n",
    "    # Remove last comma\n",
    "    result = result[1:end-2]\n",
    "    if sentenceE != \"\"\n",
    "        result *= \"\\n\"\n",
    "    end\n",
    "    println(sentenceS, result, sentenceE)\n",
    "end\n",
    "\n",
    "function is_in_aprox(list, element, precision=1e-5)\n",
    "    # Check if the element is in the list up to a certain precision\n",
    "    if length(list) == 0\n",
    "        return false\n",
    "    end\n",
    "    for i in 1:length(list)\n",
    "        if (norm(element .- list[i]) < precision)\n",
    "            return true\n",
    "        end\n",
    "    end\n",
    "    return false\n",
    "end\n",
    "\n",
    "function createEdge(F,G, k1=nothing, k2=nothing)\n",
    "    # F,G are systems of polynomials in x\n",
    "    # returns a the straight line homotopy from k1*F to k2*G for generic k1,k2\n",
    "    if k1==nothing\n",
    "        k1,k2 = generate_generic_points(2)\n",
    "    end\n",
    "    Fs = System(k1*expressions(F))\n",
    "    Gs = System(k2*expressions(G))\n",
    "    H = StraightLineHomotopy(Fs, Gs)\n",
    "    return H\n",
    "end"
   ]
  },
  {
   "cell_type": "markdown",
   "metadata": {},
   "source": [
    "# Graph layouts"
   ]
  },
  {
   "cell_type": "markdown",
   "metadata": {},
   "source": [
    "##### Graph objects creation"
   ]
  },
  {
   "cell_type": "code",
   "execution_count": 170,
   "metadata": {},
   "outputs": [
    {
     "data": {
      "text/plain": [
       "add_root (generic function with 1 method)"
      ]
     },
     "execution_count": 170,
     "metadata": {},
     "output_type": "execute_result"
    }
   ],
   "source": [
    "mutable struct Vertex\n",
    "    known_roots\n",
    "    base_point::System\n",
    "    label::Int\n",
    "    Vertex(known_roots, base_point) = new(known_roots, base_point, 0)\n",
    "end\n",
    "\n",
    "mutable struct Edge\n",
    "    startV::Vertex\n",
    "    tracker_start::Tracker\n",
    "    endV::Vertex\n",
    "    tracker_end::Tracker\n",
    "    parameters::Vector{ComplexF64}\n",
    "    tracked_roots_start\n",
    "    tracked_roots_end\n",
    "    label::Vector{Int}\n",
    "    label_id::Int\n",
    "    Edge(startV, tracker_start, endV, tracker_end, parameters) = new(startV, tracker_start, endV, tracker_end, parameters, [], [], [], 0)\n",
    "end\n",
    "\n",
    "mutable struct Graph\n",
    "    vertices::Vector{Vertex}\n",
    "    edges::Vector{Edge}\n",
    "    paths_tracked::Int\n",
    "    path_tracking\n",
    "    new_solution::Int\n",
    "    vertex_labels::Vector{Int}\n",
    "    edge_labels::Vector{Vector{Int}}\n",
    "    history::Vector{Graph}\n",
    "end\n",
    "\n",
    "# Change function to use labels\n",
    "function still_untracked_roots(G)\n",
    "    # Go through all the edges and check if there are still untracked roots\n",
    "    for i = 1:length(G.edges)\n",
    "        # If there are roots in start or end nodes that are not tracked, return true\n",
    "        if length(G.edges[i].tracked_roots_start) < length(G.edges[i].startV.known_roots)\n",
    "            return true, G.edges[i]\n",
    "        end\n",
    "        if length(G.edges[i].tracked_roots_end) < length(G.edges[i].endV.known_roots)\n",
    "            return true, G.edges[i]\n",
    "        end\n",
    "    end\n",
    "    return false, nothing\n",
    "end\n",
    "\n",
    "\n",
    "function createGraph()\n",
    "    return Graph([], [], 0, [], 0, [], [], [])\n",
    "end\n",
    "\n",
    "function light_graph_copy(G)\n",
    "    # Return a copy of the graph without the history, edges and vertices\n",
    "    return Graph([], [], G.paths_tracked, G.path_tracking, G.new_solution, G.vertex_labels, G.edge_labels, [])\n",
    "end\n",
    "\n",
    "function save_graph_history(G)\n",
    "    # Create a copy\n",
    "    G_copy = deepcopy(light_graph_copy(G))\n",
    "    # Save the graph to the history\n",
    "    push!(G.history, G_copy)\n",
    "end\n",
    "\n",
    "function add_Vertex(G, vertex)\n",
    "    # Save to history\n",
    "    save_graph_history(G)\n",
    "    # Generate vertex id\n",
    "    vertex.label = length(G.vertices) + 1\n",
    "\n",
    "    println(\"Created vertex: \", vertex.label)\n",
    "\n",
    "    # Add it to the graph\n",
    "    push!(G.vertices, vertex)\n",
    "    # Add the label to the list of labels\n",
    "    push!(G.vertex_labels, vertex.label)\n",
    "end\n",
    "\n",
    "function add_Edge(G, edge)\n",
    "    # Save to history\n",
    "    save_graph_history(G)\n",
    "    # Generate edge label\n",
    "    edge.label = [min(edge.startV.label, edge.endV.label), max(edge.startV.label, edge.endV.label)]\n",
    "    # Generate edge dependent on other edges between same vertices\n",
    "    previous_edge_index = [i for i in length(G.edge_labels):-1:1 if G.edge_labels[i] == edge.label]\n",
    "    if previous_edge_index != []\n",
    "        edge.label_id = G.edges[previous_edge_index[1]].label_id + 1\n",
    "    else\n",
    "        edge.label_id = 1\n",
    "    end\n",
    "    # Add the label to the list of labels\n",
    "    push!(G.edge_labels, edge.label)\n",
    "    println(\"Created edge \", edge.label, \"#\", edge.label_id, \"  (k1: \", edge.parameters[1], \" k2: \", edge.parameters[2], \")\")\n",
    "\n",
    "    # Add it to the graph\n",
    "    push!(G.edges, edge)\n",
    "end\n",
    "\n",
    "function track_path(G, edge, roots, fromStart)\n",
    "    # Save before\n",
    "    save_graph_history(G)\n",
    "\n",
    "    vertex = fromStart ? edge.startV : edge.endV\n",
    "    if(length(roots) == 0)\n",
    "        println(\"No roots to track from \", vertex.label, \".\")\n",
    "        return []\n",
    "    end\n",
    "\n",
    "    tracker = fromStart ? edge.tracker_start : edge.tracker_end\n",
    "    println(\"Tracking roots through path \", edge.label, \"#\", edge.label_id, \" from \", vertex.label)\n",
    "    print_solutions(roots, \"Roots: \")\n",
    "    G.path_tracking = [edge.label, edge.label_id, edge.startV.label]\n",
    "    G.paths_tracked += length(roots)\n",
    "\n",
    "    # Reset the path tracking\n",
    "    save_graph_history(G)\n",
    "    G.path_tracking = []\n",
    "    \n",
    "    return track.(tracker, roots)\n",
    "end\n",
    "\n",
    "function add_root(G, edge, vertex_end, root_start, root_end)\n",
    "    # A root only is tracked once so we record it in the edge\n",
    "    push!(edge.tracked_roots_start, root_start)\n",
    "\n",
    "    # Check if the root is already in the end vertex\n",
    "    if !is_in_aprox(edge.tracked_roots_end, root_end)\n",
    "        push!(edge.tracked_roots_end, root_end)\n",
    "    end\n",
    "    if !is_in_aprox(vertex_end.known_roots, root_end)\n",
    "        print_solutions([root_end], \"Adding root: \")\n",
    "        \n",
    "        save_graph_history(G)\n",
    "        G.new_solution = vertex_end.label\n",
    "        push!(vertex_end.known_roots, root_end)\n",
    "        save_graph_history(G)\n",
    "    end\n",
    "end"
   ]
  },
  {
   "cell_type": "markdown",
   "metadata": {},
   "source": [
    "## Flower graph"
   ]
  },
  {
   "cell_type": "code",
   "execution_count": 145,
   "metadata": {},
   "outputs": [
    {
     "data": {
      "text/plain": [
       "create_flower_graph (generic function with 1 method)"
      ]
     },
     "execution_count": 145,
     "metadata": {},
     "output_type": "execute_result"
    }
   ],
   "source": [
    "function create_flower_graph(seed,s,t)\n",
    "    F0, x0 = seed\n",
    "    initial_vertex = Vertex([x0], F0)\n",
    "    flower_graph = createGraph()\n",
    "    add_Vertex(flower_graph, initial_vertex)\n",
    "    for i = 1:s\n",
    "        # Create a new vertex\n",
    "        new_vsystem = create_random_polynomial(x)\n",
    "        new_vertex = Vertex([], new_vsystem)\n",
    "        add_Vertex(flower_graph, new_vertex)\n",
    "        for j = 1:t\n",
    "            k1,k2 = generate_generic_points(2)\n",
    "            new_homotopy1 = createEdge(initial_vertex.base_point, new_vertex.base_point, k1,k2)\n",
    "            new_tracker1 = Tracker(new_homotopy1)\n",
    "            new_homotopy2 = createEdge(new_vertex.base_point, initial_vertex.base_point, k2, k1)\n",
    "            new_tracker2 = Tracker(new_homotopy2)\n",
    "\n",
    "            new_edge = Edge(initial_vertex, new_tracker1, new_vertex, new_tracker2, [k1, k2])\n",
    "            add_Edge(flower_graph, new_edge)\n",
    "        end\n",
    "    end\n",
    "    return flower_graph\n",
    "end"
   ]
  },
  {
   "cell_type": "code",
   "execution_count": 144,
   "metadata": {},
   "outputs": [
    {
     "name": "stdout",
     "output_type": "stream",
     "text": [
      "Created vertex: 1\n",
      "Created vertex: 2\n",
      "System of length 3\n",
      " 3 variables: x₁, x₂, x₃\n",
      "\n",
      " x₁ + x₂ + x₃\n",
      " x₂*x₁ + x₂*x₃ + x₃*x₁\n",
      " -1 + x₂*x₃*x₁ System of length 3\n",
      " 3 variables: x₁, x₂, x₃\n",
      "\n",
      " (-0.23 - 0.57*im)*x₁ + (0.76 + 0.09*im)*x₂ + (-0.52 + 0.34*im)*x₃\n",
      " (0.17 - 0.64*im)*x₂*x₁ + (-0.16 + 0.04*im)*x₂*x₃ + (-0.29 + 0.98*im)*x₃*x₁\n",
      " 0.86 - 0.85*im + (0.19 - 0.15*im)*x₂*x₃*x₁ 0.03 - 0.71im -0.04 + 0.02im\n",
      "Created edge [1, 2]#1  (k1: 0.03 - 0.71im k2: -0.04 + 0.02im)\n",
      "System of length 3\n",
      " 3 variables: x₁, x₂, x₃\n",
      "\n",
      " x₁ + x₂ + x₃\n",
      " x₂*x₁ + x₂*x₃ + x₃*x₁\n",
      " -1 + x₂*x₃*x₁ System of length 3\n",
      " 3 variables: x₁, x₂, x₃\n",
      "\n",
      " (-0.23 - 0.57*im)*x₁ + (0.76 + 0.09*im)*x₂ + (-0.52 + 0.34*im)*x₃\n",
      " (0.17 - 0.64*im)*x₂*x₁ + (-0.16 + 0.04*im)*x₂*x₃ + (-0.29 + 0.98*im)*x₃*x₁\n",
      " 0.86 - 0.85*im + (0.19 - 0.15*im)*x₂*x₃*x₁ 0.22 + 0.02im -0.87 + 0.44im\n",
      "Created edge [1, 2]#2  (k1: 0.22 + 0.02im k2: -0.87 + 0.44im)\n",
      "Created vertex: 3\n",
      "System of length 3\n",
      " 3 variables: x₁, x₂, x₃\n",
      "\n",
      " x₁ + x₂ + x₃\n",
      " x₂*x₁ + x₂*x₃ + x₃*x₁\n",
      " -1 + x₂*x₃*x₁ System of length 3\n",
      " 3 variables: x₁, x₂, x₃\n",
      "\n",
      " (-0.73 - 0.41*im)*x₁ + (0.45 - 0.23*im)*x₂ + (0.14 - 0.28*im)*x₃\n",
      " (-0.94 + 0.59*im)*x₂*x₁ + (-0.48 - 0.59*im)*x₂*x₃ + (-0.35 - 0.49*im)*x₃*x₁\n",
      " 0.84 - 0.92*im + (-0.63 + 0.02*im)*x₂*x₃*x₁ -0.8 + 0.61im -0.02 + 0.45im\n",
      "Created edge [1, 3]#1  (k1: -0.8 + 0.61im k2: -0.02 + 0.45im)\n",
      "System of length 3\n",
      " 3 variables: x₁, x₂, x₃\n",
      "\n",
      " x₁ + x₂ + x₃\n",
      " x₂*x₁ + x₂*x₃ + x₃*x₁\n",
      " -1 + x₂*x₃*x₁ System of length 3\n",
      " 3 variables: x₁, x₂, x₃\n",
      "\n",
      " (-0.73 - 0.41*im)*x₁ + (0.45 - 0.23*im)*x₂ + (0.14 - 0.28*im)*x₃\n",
      " (-0.94 + 0.59*im)*x₂*x₁ + (-0.48 - 0.59*im)*x₂*x₃ + (-0.35 - 0.49*im)*x₃*x₁\n",
      " 0.84 - 0.92*im + (-0.63 + 0.02*im)*x₂*x₃*x₁ -0.82 + 0.02im -0.43 + 0.43im\n",
      "Created edge [1, 3]#2  (k1: -0.82 + 0.02im k2: -0.43 + 0.43im)\n"
     ]
    }
   ],
   "source": [
    "G = create_flower_graph((F,seed), 2, 2);"
   ]
  },
  {
   "cell_type": "markdown",
   "metadata": {},
   "source": [
    "## Complete graph"
   ]
  },
  {
   "cell_type": "code",
   "execution_count": 7,
   "metadata": {},
   "outputs": [
    {
     "data": {
      "text/plain": [
       "create_complete_graph (generic function with 1 method)"
      ]
     },
     "execution_count": 7,
     "metadata": {},
     "output_type": "execute_result"
    }
   ],
   "source": [
    "function create_complete_graph(s,t)\n",
    "\n",
    "    complete_graph = Graph()\n",
    "    # Create vertices\n",
    "    for i = 1:s\n",
    "        # Create a new vertex\n",
    "        new_vsystem = create_random_polynomial(x)\n",
    "        new_vertex = Vertex([], new_vsystem)\n",
    "        add_Vertex(complete_graph, new_vertex)        \n",
    "    end\n",
    "\n",
    "    for i = 1:s\n",
    "        for i_end = (i+1):s\n",
    "            # Create t edges (i,i_end)\n",
    "            for j = 1:t\n",
    "                k1,k2 = generate_generic_points(2)\n",
    "                println(\"Creating edge \", i, \" \", j)\n",
    "                println(\"k1: \", k1, \" k2: \", k2)\n",
    "                new_homotopy1 = createEdge(complete_graph[i].base_point, complete_graph[i_end].base_point, k1,k2)\n",
    "                new_tracker1 = Tracker(new_homotopy1)\n",
    "                new_homotopy2 = createEdge(complete_graph[i_end].base_point, complete_graph[i].base_point, k2, k1)\n",
    "                new_tracker2 = Tracker(new_homotopy2)\n",
    "                new_edge = Edge(initial_vertex, new_tracker1, new_vertex, new_tracker2, [k1, k2])\n",
    "                add_Edge(complete_graph, new_edge)                \n",
    "            end\n",
    "        end\n",
    "    end\n",
    "    return complete_graph\n",
    "end"
   ]
  },
  {
   "cell_type": "code",
   "execution_count": null,
   "metadata": {},
   "outputs": [],
   "source": [
    "G = create_complete_graph((F,seed), 4, 1);"
   ]
  },
  {
   "cell_type": "markdown",
   "metadata": {},
   "source": [
    "# Naive dynamic strategy"
   ]
  },
  {
   "cell_type": "code",
   "execution_count": 8,
   "metadata": {},
   "outputs": [
    {
     "data": {
      "text/plain": [
       "naive_dynamic_strategy (generic function with 1 method)"
      ]
     },
     "execution_count": 8,
     "metadata": {},
     "output_type": "execute_result"
    }
   ],
   "source": [
    "function naive_dynamic_strategy(F0, x0)\n",
    "    # Given the seed (F_0, x_0) uses the naive dynamic strategy to compute the roots of F_0\n",
    "    roots = [x0]\n",
    "\n",
    "    iteration = 0\n",
    "    while length(roots) < 6 && iteration < 100\n",
    "        # Create a new vertex\n",
    "        G = create_random_polynomial(x)\n",
    "\n",
    "        # Create the edge from F_0 to G\n",
    "        H1 = createEdge(F0, G)\n",
    "        tracker1 = Tracker(H1)\n",
    "        # Create the edge from G to F_0\n",
    "        H2 = createEdge(G, F0)\n",
    "        tracker2 = Tracker(H2)\n",
    "        # Track all the known roots\n",
    "        println(\"---Starting new loop \")\n",
    "        print_solutions(roots, \"<starting edge>\\n\")\n",
    "        track_vertex_roots = track.(tracker1, roots)\n",
    "        \n",
    "        G.paths_tracked += length(roots)\n",
    "\n",
    "        vertex_roots = [track_vertex_roots[i].solution for i = 1:length(track_vertex_roots)]\n",
    "        print_solutions(vertex_roots, \"<intermediary edge>\\n\")\n",
    "\n",
    "        root_potential = track.(tracker2, vertex_roots)\n",
    "        G.paths_tracked += length(roots)\n",
    "\n",
    "        for i in 1:size(root_potential,1)\n",
    "            # If the root is not already in the list, add it\n",
    "            println(\"Checking if found root is new\", i, \":\\n\", root_potential[i].solution)\n",
    "            if !is_in_aprox(roots, root_potential[i].solution) \n",
    "                println(\"YES\\n+Adding root\")\n",
    "                push!(roots, root_potential[i].solution)\n",
    "            else\n",
    "                println(\"NO\\n\")\n",
    "            end\n",
    "        end\n",
    "        iteration += 1\n",
    "\n",
    "    end\n",
    "    return roots\n",
    "end\n",
    "        "
   ]
  },
  {
   "cell_type": "code",
   "execution_count": null,
   "metadata": {},
   "outputs": [
    {
     "name": "stdout",
     "output_type": "stream",
     "text": [
      "---Starting new loop \n",
      "The solutions of the system are: \n",
      "Solution: -0.5 - 0.8660254037844387im, 1.0 + 1.6709233623178546e-17im, -0.5 + 0.8660254037844387im\n",
      "The solutions of the system are: \n",
      "Solution: -0.7816398290830416 + 0.1658954498528197im, -0.09869159545973567 + 0.7010248290686579im, -3.5678056964953537 - 0.04887632892267901im\n",
      "Checking if found root is new1:\n",
      "ComplexF64[-0.5 + 0.8660254037844387im, -0.5 - 0.8660254037844386im, 1.0 + 8.846879733898983e-18im]\n",
      "YES\n",
      "+Adding root\n",
      "---Starting new loop \n",
      "The solutions of the system are: \n",
      "Solution: -0.5 - 0.8660254037844387im, 1.0 + 1.6709233623178546e-17im, -0.5 + 0.8660254037844387im\n",
      "Solution: -0.5 + 0.8660254037844387im, -0.5 - 0.8660254037844386im, 1.0 + 8.846879733898983e-18im\n",
      "The solutions of the system are: \n",
      "Solution: -0.84102978972116 - 0.18443941582575146im, 0.03291528664420757 + 0.8563568337502001im, 0.2243033433280859 + 1.2700201279470222im\n",
      "Solution: 0.2607856752963176 + 0.8205728711508848im, 0.7251691294099765 - 0.4566838912818304im, 0.9877180224556416 - 0.8292624574494164im\n",
      "Checking if found root is new1:\n",
      "ComplexF64[-0.5 - 0.8660254037844386im, 1.0 + 1.1416462999539286e-17im, -0.5 + 0.8660254037844386im]\n",
      "NO\n",
      "\n",
      "Checking if found root is new2:\n",
      "ComplexF64[-0.5 + 0.8660254037844387im, -0.5 - 0.8660254037844387im, 1.0 + 1.2223538343809849e-17im]\n",
      "NO\n",
      "\n",
      "---Starting new loop \n",
      "The solutions of the system are: \n",
      "Solution: -0.5 - 0.8660254037844387im, 1.0 + 1.6709233623178546e-17im, -0.5 + 0.8660254037844387im\n",
      "Solution: -0.5 + 0.8660254037844387im, -0.5 - 0.8660254037844386im, 1.0 + 8.846879733898983e-18im\n",
      "The solutions of the system are: \n",
      "Solution: -1.5443560328681691 + 0.6865039964795031im, -0.26764889230062083 - 0.26438511449872565im, -0.7429255375247167 + 0.12010357305655987im\n",
      "Solution: 1.366707917184877 + 0.9941995587118384im, -0.09513977938804347 + 0.3639832972764658im, 0.47547551411461925 + 0.5833406020883338im\n",
      "Checking if found root is new1:\n",
      "ComplexF64[-0.5 + 0.8660254037844387im, 1.0 + 1.8040342997551795e-17im, -0.5 - 0.8660254037844387im]\n",
      "YES\n",
      "+Adding root\n",
      "Checking if found root is new2:\n",
      "ComplexF64[1.0 + 1.260539232444682e-17im, -0.5 - 0.8660254037844387im, -0.49999999999999994 + 0.8660254037844386im]\n",
      "YES\n",
      "+Adding root\n",
      "---Starting new loop \n",
      "The solutions of the system are: \n",
      "Solution: -0.5 - 0.8660254037844387im, 1.0 + 1.6709233623178546e-17im, -0.5 + 0.8660254037844387im\n",
      "Solution: -0.5 + 0.8660254037844387im, -0.5 - 0.8660254037844386im, 1.0 + 8.846879733898983e-18im\n",
      "Solution: -0.5 + 0.8660254037844387im, 1.0 + 1.8040342997551795e-17im, -0.5 - 0.8660254037844387im\n",
      "Solution: 1.0 + 1.260539232444682e-17im, -0.5 - 0.8660254037844387im, -0.49999999999999994 + 0.8660254037844386im\n",
      "The solutions of the system are: \n",
      "Solution: -0.37976105051019465 - 0.1535833376418511im, -0.22658417453170898 + 0.2603835651588439im, -0.29513573969053397 - 4.226028458956491im\n",
      "Solution: 0.056873453259251486 + 0.40567438593061944im, 0.33879086942137404 + 0.066035868660565im, -3.512280132727058 + 2.368609277614959im\n",
      "Solution: -0.7802526157371761 + 1.901219364305203im, -0.11207074221979493 - 0.8122457174058564im, -0.2531194386367007 - 0.24958297410234956im\n",
      "Solution: 2.0366305755237955 - 0.27489109555494917im, -0.6473900542786905 + 0.5031789684862479im, -0.089585476606358 + 0.34399935110221397im\n",
      "Checking if found root is new1:\n",
      "ComplexF64[-0.5 - 0.8660254037844386im, 1.0 - 3.7633862076051964e-17im, -0.5 + 0.8660254037844387im]\n",
      "NO\n",
      "\n",
      "Checking if found root is new2:\n",
      "ComplexF64[-0.5 + 0.8660254037844387im, -0.5 - 0.8660254037844387im, 1.0 - 9.119344942756333e-18im]\n",
      "NO\n",
      "\n",
      "Checking if found root is new3:\n",
      "ComplexF64[-0.5 + 0.8660254037844386im, 1.0 + 4.293440601033211e-17im, -0.5 - 0.8660254037844387im]\n",
      "NO\n",
      "\n",
      "Checking if found root is new4:\n",
      "ComplexF64[1.0 + 5.0278539012220685e-18im, -0.5 - 0.8660254037844387im, -0.5 + 0.8660254037844387im]\n",
      "NO\n",
      "\n",
      "---Starting new loop \n",
      "The solutions of the system are: \n",
      "Solution: -0.5 - 0.8660254037844387im, 1.0 + 1.6709233623178546e-17im, -0.5 + 0.8660254037844387im\n",
      "Solution: -0.5 + 0.8660254037844387im, -0.5 - 0.8660254037844386im, 1.0 + 8.846879733898983e-18im\n",
      "Solution: -0.5 + 0.8660254037844387im, 1.0 + 1.8040342997551795e-17im, -0.5 - 0.8660254037844387im\n",
      "Solution: 1.0 + 1.260539232444682e-17im, -0.5 - 0.8660254037844387im, -0.49999999999999994 + 0.8660254037844386im\n",
      "The solutions of the system are: \n",
      "Solution: 1.7295826887273056 - 0.048387999976990496im, 0.4927380250178931 - 0.9162216006236122im, -0.11912021759629854 + 0.43919902607597977im\n",
      "Solution: -0.9066965815820471 - 1.4736685463951447im, -1.039840194145035 + 0.03138715323573838im, 0.43991762269733187 - 0.11643837849526534im\n",
      "Solution: 0.10075151682720437 - 0.9848304565453464im, 0.42368484266657674 - 0.49571887822125904im, -1.2649001676131955 + 0.0999497434494661im\n",
      "Solution: -0.903263952202499 + 0.4051618552304988im, -0.6411475630084232 - 0.11906239783703895im, 0.7190091007355726 + 1.0454608066794884im\n",
      "Checking if found root is new1:\n",
      "ComplexF64[1.0 - 2.193649356152144e-17im, -0.5 - 0.8660254037844386im, -0.5 + 0.8660254037844387im]\n",
      "NO\n",
      "\n",
      "Checking if found root is new2:\n",
      "ComplexF64[-0.5 - 0.8660254037844387im, -0.5 + 0.8660254037844387im, 1.0 + 2.045730151406944e-18im]\n",
      "YES\n",
      "+Adding root\n",
      "Checking if found root is new3:\n",
      "ComplexF64[-0.5 + 0.8660254037844387im, -0.5 - 0.8660254037844386im, 1.0 + 6.5851958856127766e-18im]\n",
      "NO\n",
      "\n",
      "Checking if found root is new4:\n",
      "ComplexF64[1.0 + 2.5596109232903407e-17im, -0.5 + 0.8660254037844386im, -0.5 - 0.8660254037844387im]\n",
      "YES\n",
      "+Adding root\n"
     ]
    },
    {
     "data": {
      "text/plain": [
       "6-element Vector{Vector{ComplexF64}}:\n",
       " [-0.5 - 0.8660254037844387im, 1.0 + 1.6709233623178546e-17im, -0.5 + 0.8660254037844387im]\n",
       " [-0.5 + 0.8660254037844387im, -0.5 - 0.8660254037844386im, 1.0 + 8.846879733898983e-18im]\n",
       " [-0.5 + 0.8660254037844387im, 1.0 + 1.8040342997551795e-17im, -0.5 - 0.8660254037844387im]\n",
       " [1.0 + 1.260539232444682e-17im, -0.5 - 0.8660254037844387im, -0.49999999999999994 + 0.8660254037844386im]\n",
       " [-0.5 - 0.8660254037844387im, -0.5 + 0.8660254037844387im, 1.0 + 2.045730151406944e-18im]\n",
       " [1.0 + 2.5596109232903407e-17im, -0.5 + 0.8660254037844386im, -0.5 - 0.8660254037844387im]"
      ]
     },
     "metadata": {},
     "output_type": "display_data"
    }
   ],
   "source": [
    "naive_dynamic_strategy(F, results(result)[1].solution)"
   ]
  },
  {
   "cell_type": "markdown",
   "metadata": {},
   "source": [
    "# Static strategy"
   ]
  },
  {
   "cell_type": "code",
   "execution_count": 30,
   "metadata": {},
   "outputs": [
    {
     "data": {
      "text/plain": [
       "static_graph_strategy (generic function with 2 methods)"
      ]
     },
     "execution_count": 30,
     "metadata": {},
     "output_type": "execute_result"
    }
   ],
   "source": [
    "function static_graph_strategy(G, criterion=(G)->true)\n",
    "    condition, edge_focus = still_untracked_roots(G)\n",
    "    if !condition\n",
    "        println(\"Graph is already fully tracked.\")\n",
    "        return\n",
    "    end\n",
    "    while condition && criterion(G)\n",
    "        println(\"--------------------------Edge \", edge_focus.label, \" has untracked roots----------------------\")\n",
    "        # Get the untracked roots\n",
    "        untracked_roots_start = [edge_focus.startV.known_roots[i] for i in 1:length(edge_focus.startV.known_roots) if !is_in_aprox(edge_focus.tracked_roots_start, edge_focus.startV.known_roots[i])]\n",
    "        untracked_roots_end = [edge_focus.endV.known_roots[i] for i in 1:length(edge_focus.endV.known_roots) if !is_in_aprox(edge_focus.tracked_roots_end, edge_focus.endV.known_roots[i])]\n",
    "\n",
    "        track_points_start = track_path(G, edge_focus, untracked_roots_start, true)\n",
    "\n",
    "        # Add the new roots to the list of known roots (direction from start)\n",
    "        for i in 1:length(track_points_start)\n",
    "            # If not already in the list, add it\n",
    "            add_root(G, edge_focus, edge_focus.endV, untracked_roots_start[i], track_points_start[i].solution)\n",
    "        end\n",
    "        \n",
    "        track_points_end = track_path(G, edge_focus, untracked_roots_end, false)\n",
    "\n",
    "        # Add the new roots to the list of known roots (direction from end)\n",
    "        for i in 1:length(track_points_end)\n",
    "            # If not already in the list, add it\n",
    "            add_root(G, edge_focus, edge_focus.startV, untracked_roots_end[i], track_points_end[i].solution)\n",
    "        end\n",
    "        condition, edge_focus = still_untracked_roots(G)\n",
    "    end\n",
    "    println(\"All possible roots have been tracked (for initial vertex \", length(G.vertices[1].known_roots), \" roots have been found).\")\n",
    "end"
   ]
  },
  {
   "cell_type": "code",
   "execution_count": 37,
   "metadata": {},
   "outputs": [
    {
     "name": "stdout",
     "output_type": "stream",
     "text": [
      "--------------------------Edge [1, 2] has untracked roots----------------------\n",
      "Tracking roots trhough path [1, 2]#2 from 1\n",
      "Roots: \n",
      " - -0.5 - 0.8660254037844387im, 1.0 + 1.6709233623178546e-17im, -0.5 + 0.8660254037844387\n",
      "Adding root: \n",
      " - -0.35164743028959294 - 1.1912076351254446im, -0.6640709271603188 + 0.5210840351789748im, 0.04270661724958534 + 1.745447393060858\n",
      "Tracking roots through path [1, 2]#2 from 2\n",
      "Roots: \n",
      " - -0.059878763278739984 - 2.205692160810294im, 0.2562355628053474 + 0.521456401562116im, -1.257821214122404 + 0.6757134628864111\n",
      "Adding root: \n",
      " - 1.0 - 9.103689528327656e-18im, -0.5 - 0.8660254037844387im, -0.5 + 0.8660254037844387\n",
      "--------------------------Edge [1, 2] has untracked roots----------------------\n",
      "Tracking roots trhough path [1, 2]#1 from 1\n",
      "Roots: \n",
      " - 1.0 - 9.103689528327656e-18im, -0.5 - 0.8660254037844387im, -0.5 + 0.8660254037844387\n",
      "Adding root: \n",
      " - 1.2074397883454158 + 0.2910682097564173im, -0.11923654839133685 - 0.8356443104250092im, -1.5329550919848183 - 0.8357386810825893\n",
      "Tracking roots through path [1, 2]#1 from 2\n",
      "Roots: \n",
      " - -0.35164743028959294 - 1.1912076351254446im, -0.6640709271603188 + 0.5210840351789748im, 0.04270661724958534 + 1.745447393060858\n",
      "Adding root: \n",
      " - -0.49999999999999994 - 0.8660254037844387im, -0.5 + 0.8660254037844386im, 1.0 - 1.0197523813360418e-17\n",
      "--------------------------Edge [1, 2] has untracked roots----------------------\n",
      "Tracking roots trhough path [1, 2]#2 from 1\n",
      "Roots: \n",
      " - 1.0 - 9.103689528327656e-18im, -0.5 - 0.8660254037844387im, -0.5 + 0.8660254037844387im\n",
      " - -0.49999999999999994 - 0.8660254037844387im, -0.5 + 0.8660254037844386im, 1.0 - 1.0197523813360418e-17\n",
      "Adding root: \n",
      " - -1.880246062550536 + 1.1547026105517306im, 0.32347670931613814 - 0.482634707523492im, 1.2140956315999878 + 0.7514483934057825\n",
      "Tracking roots through path [1, 2]#2 from 2\n",
      "Roots: \n",
      " - -0.059878763278739984 - 2.205692160810294im, 0.2562355628053474 + 0.521456401562116im, -1.257821214122404 + 0.6757134628864111im\n",
      " - 1.2074397883454158 + 0.2910682097564173im, -0.11923654839133685 - 0.8356443104250092im, -1.5329550919848183 - 0.8357386810825893\n",
      "Adding root: \n",
      " - 1.0 + 3.1822040509657745e-17im, -0.5 + 0.8660254037844387im, -0.5 - 0.8660254037844386\n",
      "--------------------------Edge [1, 2] has untracked roots----------------------\n",
      "Tracking roots trhough path [1, 2]#1 from 1\n",
      "Roots: \n",
      " - -0.49999999999999994 - 0.8660254037844387im, -0.5 + 0.8660254037844386im, 1.0 - 1.0197523813360418e-17im\n",
      " - 1.0 + 3.1822040509657745e-17im, -0.5 + 0.8660254037844387im, -0.5 - 0.8660254037844386\n",
      "Adding root: \n",
      " - 1.9401248258292758 + 1.0509895502585633im, -0.5797122721214857 - 0.03882169403862405im, 0.04372558252241672 - 1.4271618562921935\n",
      "Tracking roots through path [1, 2]#1 from 2\n",
      "Roots: \n",
      " - -0.35164743028959294 - 1.1912076351254446im, -0.6640709271603188 + 0.5210840351789748im, 0.04270661724958534 + 1.745447393060858im\n",
      " - -1.880246062550536 + 1.1547026105517306im, 0.32347670931613814 - 0.482634707523492im, 1.2140956315999878 + 0.7514483934057825\n",
      "Adding root: \n",
      " - -0.5 + 0.8660254037844387im, -0.5 - 0.8660254037844387im, 1.0 - 2.295341643215516e-17\n",
      "--------------------------Edge [1, 3] has untracked roots----------------------\n",
      "Tracking roots trhough path [1, 3]#1 from 1\n",
      "Roots: \n",
      " - -0.5 - 0.8660254037844387im, 1.0 + 1.6709233623178546e-17im, -0.5 + 0.8660254037844387im\n",
      " - 1.0 - 9.103689528327656e-18im, -0.5 - 0.8660254037844387im, -0.5 + 0.8660254037844387im\n",
      " - -0.49999999999999994 - 0.8660254037844387im, -0.5 + 0.8660254037844386im, 1.0 - 1.0197523813360418e-17im\n",
      " - 1.0 + 3.1822040509657745e-17im, -0.5 + 0.8660254037844387im, -0.5 - 0.8660254037844386im\n",
      " - -0.5 + 0.8660254037844387im, -0.5 - 0.8660254037844387im, 1.0 - 2.295341643215516e-17\n",
      "Adding root: \n",
      " - -0.24552334618242078 - 0.7667922155475355im, 1.1377646693020727 + 0.05394215532562872im, -0.9588979099402524 + 0.21540067057272655\n",
      "Adding root: \n",
      " - -2.3418126073967858 + 2.20181618856498im, -0.6133515692809566 + 0.4690274848367805im, -0.28979495890002976 + 0.21885746781057827\n",
      "Adding root: \n",
      " - 3.0777350574594933 + 0.9271611146258008im, 0.7128655015822507 + 0.29666429802996924im, 0.3344336063819107 + 0.14154106239080394\n",
      "Adding root: \n",
      " - 0.7868232111795292 + 0.1707666527576303im, -0.6155976114979169 + 0.9583620294811813im, 0.2929065022619418 - 0.9381302849304246\n",
      "Adding root: \n",
      " - -0.5412998649971084 + 0.5960255627899053im, -0.5221670578041557 - 1.01230418480681im, 0.6659914076783104 + 0.722729614357698\n",
      "No roots to track from 3.\n",
      "--------------------------Edge [1, 3] has untracked roots----------------------\n",
      "Tracking roots trhough path [1, 3]#2 from 1\n",
      "Roots: \n",
      " - -0.5 - 0.8660254037844387im, 1.0 + 1.6709233623178546e-17im, -0.5 + 0.8660254037844387im\n",
      " - 1.0 - 9.103689528327656e-18im, -0.5 - 0.8660254037844387im, -0.5 + 0.8660254037844387im\n",
      " - -0.49999999999999994 - 0.8660254037844387im, -0.5 + 0.8660254037844386im, 1.0 - 1.0197523813360418e-17im\n",
      " - 1.0 + 3.1822040509657745e-17im, -0.5 + 0.8660254037844387im, -0.5 - 0.8660254037844386im\n",
      " - -0.5 + 0.8660254037844387im, -0.5 - 0.8660254037844387im, 1.0 - 2.295341643215516e-17\n",
      "Adding root: \n",
      " - -0.7359224500627075 - 3.128977303190781im, -0.09951393230129418 - 0.7656917828667497im, -0.04463864748188097 - 0.3603985302013822\n",
      "Tracking roots through path [1, 3]#2 from 3\n",
      "Roots: \n",
      " - -0.24552334618242078 - 0.7667922155475355im, 1.1377646693020727 + 0.05394215532562872im, -0.9588979099402524 + 0.21540067057272655im\n",
      " - -2.3418126073967858 + 2.20181618856498im, -0.6133515692809566 + 0.4690274848367805im, -0.28979495890002976 + 0.21885746781057827im\n",
      " - 3.0777350574594933 + 0.9271611146258008im, 0.7128655015822507 + 0.29666429802996924im, 0.3344336063819107 + 0.14154106239080394im\n",
      " - 0.7868232111795292 + 0.1707666527576303im, -0.6155976114979169 + 0.9583620294811813im, 0.2929065022619418 - 0.9381302849304246im\n",
      " - -0.5412998649971084 + 0.5960255627899053im, -0.5221670578041557 - 1.01230418480681im, 0.6659914076783104 + 0.722729614357698\n",
      "Adding root: \n",
      " - -0.5 + 0.8660254037844387im, 1.0 - 1.1538594118214083e-17im, -0.5 - 0.8660254037844387\n",
      "--------------------------Edge [1, 3] has untracked roots----------------------\n",
      "Tracking roots trhough path [1, 3]#1 from 1\n",
      "Roots: \n",
      " - -0.5 + 0.8660254037844387im, 1.0 - 1.1538594118214083e-17im, -0.5 - 0.8660254037844387\n",
      "Tracking roots through path [1, 3]#1 from 3\n",
      "Roots: \n",
      " - -0.7359224500627075 - 3.128977303190781im, -0.09951393230129418 - 0.7656917828667497im, -0.04463864748188097 - 0.3603985302013822\n",
      "All possible roots have been tracked. (for initial vertex 6 roots have been found)\n"
     ]
    }
   ],
   "source": [
    "static_graph_strategy(G)"
   ]
  },
  {
   "cell_type": "code",
   "execution_count": 35,
   "metadata": {},
   "outputs": [
    {
     "data": {
      "text/plain": [
       "1"
      ]
     },
     "execution_count": 35,
     "metadata": {},
     "output_type": "execute_result"
    }
   ],
   "source": [
    "length(G.vertices[1].known_roots)"
   ]
  },
  {
   "cell_type": "markdown",
   "metadata": {},
   "source": [
    "## Static strategy: stopping criterion"
   ]
  },
  {
   "cell_type": "markdown",
   "metadata": {},
   "source": [
    "## Static strategy: edge selection"
   ]
  },
  {
   "cell_type": "markdown",
   "metadata": {},
   "source": [
    "# Incremental dynamic strategy"
   ]
  },
  {
   "cell_type": "markdown",
   "metadata": {},
   "source": [
    "##### Auxiliary functions"
   ]
  },
  {
   "cell_type": "code",
   "execution_count": 38,
   "metadata": {},
   "outputs": [
    {
     "data": {
      "text/plain": [
       "count_all_known_solutions (generic function with 1 method)"
      ]
     },
     "execution_count": 38,
     "metadata": {},
     "output_type": "execute_result"
    }
   ],
   "source": [
    "function count_all_known_solutions(G)\n",
    "    count = 0\n",
    "    for i in 1:length(G.vertices)\n",
    "        count += length(G.vertices[i].known_roots)\n",
    "    end\n",
    "    return count\n",
    "end"
   ]
  },
  {
   "cell_type": "markdown",
   "metadata": {},
   "source": [
    "##### Augmentation methods"
   ]
  },
  {
   "cell_type": "code",
   "execution_count": 40,
   "metadata": {},
   "outputs": [
    {
     "data": {
      "text/plain": [
       "augment_graph_petal (generic function with 1 method)"
      ]
     },
     "execution_count": 40,
     "metadata": {},
     "output_type": "execute_result"
    }
   ],
   "source": [
    "function augment_graph_petal(G, initial_vertex)\n",
    "    # Create a new vertex\n",
    "    new_vsystem = create_random_polynomial(x)\n",
    "    new_vertex = Vertex([], new_vsystem)\n",
    "    add_Vertex(G, new_vertex)\n",
    "\n",
    "    # Create two new edges\n",
    "    for i=1:2\n",
    "        k1,k2 = generate_generic_points(2)\n",
    "        new_homotopy1 = createEdge(initial_vertex.base_point, new_vertex.base_point, k1,k2)\n",
    "        new_tracker1 = Tracker(new_homotopy1)\n",
    "        new_homotopy2 = createEdge(new_vertex.base_point, initial_vertex.base_point, k2, k1)\n",
    "        new_tracker2 = Tracker(new_homotopy2)\n",
    "\n",
    "        new_edge = Edge(initial_vertex, new_tracker1, new_vertex, new_tracker2, [k1, k2])\n",
    "        add_Edge(G, new_edge)        \n",
    "    end\n",
    "end\n",
    "    "
   ]
  },
  {
   "cell_type": "markdown",
   "metadata": {},
   "source": [
    "## Incremental dynamic\n",
    "Stopping criterion: dynamic stability (select with max_stop_count)\n",
    "\n",
    "Augmentation method: Add a petal to the initial vertex"
   ]
  },
  {
   "cell_type": "code",
   "execution_count": 160,
   "metadata": {},
   "outputs": [
    {
     "data": {
      "text/plain": [
       "dynamic_incremental_strategy (generic function with 4 methods)"
      ]
     },
     "execution_count": 160,
     "metadata": {},
     "output_type": "execute_result"
    }
   ],
   "source": [
    "function dynamic_incremental_strategy(G, max_stop_count=3, augment=(G)->G, max_iter=12)\n",
    "    it = 1\n",
    "    stop_count = 0\n",
    "    while it < max_iter\n",
    "        println(\"-------------------Iteration\", it, \"-------------------\")\n",
    "        println(\"(History: \", length(G.history), \")\")\n",
    "        # Track the roots before\n",
    "        sol_prev = length(G.vertices[1].known_roots)\n",
    "        println(\"Known solutions: \", sol_prev)\n",
    "\n",
    "        # Apply the static strategy\n",
    "        println(\"<Applying static strategy...>\")\n",
    "        static_graph_strategy(G)\n",
    "\n",
    "        # Track the roots after\n",
    "        sol_post = length(G.vertices[1].known_roots)\n",
    "        println(\"Known solutions: \", sol_post)\n",
    "\n",
    "        # If there are no new solutions, add to the stop count\n",
    "        if sol_post == sol_prev\n",
    "            println(\"No new solutions were found:  +1 stop counter.\")\n",
    "            stop_count += 1\n",
    "            if stop_count == max_stop_count\n",
    "                println(\"No new solutions were found in \", max_stop_count, \" iterations.\\n<Stopping>\")\n",
    "                break\n",
    "            end\n",
    "        else\n",
    "            stop_count = 0\n",
    "        end\n",
    "        \n",
    "        # Augment the graph\n",
    "        println(\"<Augmenting graph...>\")\n",
    "        augment(G, G.vertices[1])\n",
    "\n",
    "        it += 1\n",
    "    end\n",
    "    println(\"Maximum number of iterations reached.\")\n",
    "end"
   ]
  },
  {
   "cell_type": "code",
   "execution_count": 171,
   "metadata": {},
   "outputs": [
    {
     "name": "stdout",
     "output_type": "stream",
     "text": [
      "Created vertex: 1\n",
      "Created vertex: 2\n",
      "Created edge [1, 2]#1  (k1: 0.38 - 0.06im k2: 0.25 - 0.59im)\n",
      "Created edge [1, 2]#2  (k1: 0.85 + 0.05im k2: -0.85 + 0.47im)\n",
      "-------------------Iteration1-------------------\n",
      "(History: 4\n",
      "Known solutions: 1\n",
      "<Applying static strategy...>\n",
      "--------------------------Edge [1, 2] has untracked roots----------------------\n",
      "Tracking roots through path [1, 2]#1 from 1\n",
      "No roots to track from 2.\n",
      "--------------------------Edge [1, 2] has untracked roots----------------------\n",
      "Tracking roots through path [1, 2]#2 from 1\n",
      "Tracking roots through path [1, 2]#2 from 2\n",
      "--------------------------Edge [1, 2] has untracked roots----------------------\n",
      "Tracking roots through path [1, 2]#1 from 1\n",
      "Tracking roots through path [1, 2]#1 from 2\n",
      "--------------------------Edge [1, 2] has untracked roots----------------------\n",
      "Tracking roots through path [1, 2]#2 from 1\n",
      "Tracking roots through path [1, 2]#2 from 2\n",
      "--------------------------Edge [1, 2] has untracked roots----------------------\n",
      "Tracking roots through path [1, 2]#1 from 1\n",
      "Tracking roots through path [1, 2]#1 from 2\n",
      "All possible roots have been tracked. (for initial vertex 5 roots have been found)\n",
      "Known solutions: 5\n",
      "<Augmenting graph...>\n",
      "Created vertex: 3\n",
      "Created edge [1, 3]#1  (k1: -0.75 + 0.97im k2: 0.99 - 0.71im)\n",
      "Created edge [1, 3]#2  (k1: -0.59 - 0.96im k2: -0.46 - 0.31im)\n",
      "-------------------Iteration2-------------------\n",
      "(History: 44\n",
      "Known solutions: 5\n",
      "<Applying static strategy...>\n",
      "--------------------------Edge [1, 3] has untracked roots----------------------\n",
      "Tracking roots through path [1, 3]#1 from 1\n",
      "No roots to track from 3.\n",
      "--------------------------Edge [1, 3] has untracked roots----------------------\n",
      "Tracking roots through path [1, 3]#2 from 1\n",
      "Tracking roots through path [1, 3]#2 from 3\n",
      "--------------------------Edge [1, 3] has untracked roots----------------------\n",
      "Tracking roots through path [1, 3]#1 from 1\n",
      "Tracking roots through path [1, 3]#1 from 3\n",
      "All possible roots have been tracked. (for initial vertex 6 roots have been found)\n",
      "Known solutions: 6\n",
      "<Augmenting graph...>\n",
      "Created vertex: 4\n",
      "Created edge [1, 4]#1  (k1: 0.96 + 0.1im k2: 0.74 + 0.06im)\n",
      "Created edge [1, 4]#2  (k1: 0.2 - 0.34im k2: -0.86 + 0.63im)\n",
      "-------------------Iteration3-------------------\n",
      "(History: 72\n",
      "Known solutions: 6\n",
      "<Applying static strategy...>\n",
      "--------------------------Edge [1, 4] has untracked roots----------------------\n",
      "Tracking roots through path [1, 4]#1 from 1\n",
      "No roots to track from 4.\n",
      "--------------------------Edge [1, 4] has untracked roots----------------------\n",
      "Tracking roots through path [1, 4]#2 from 1\n",
      "Tracking roots through path [1, 4]#2 from 4\n",
      "All possible roots have been tracked. (for initial vertex 6 roots have been found)\n",
      "Known solutions: 6\n",
      "No new solutions were found:  +1 stop counter.\n",
      "<Augmenting graph...>\n",
      "Created vertex: 5\n",
      "Created edge [1, 5]#1  (k1: -0.84 + 0.56im k2: 0.72 + 0.96im)\n",
      "Created edge [1, 5]#2  (k1: 0.06 + 0.78im k2: -0.02 - 0.61im)\n",
      "-------------------Iteration4-------------------\n",
      "(History: 94\n",
      "Known solutions: 6\n",
      "<Applying static strategy...>\n",
      "--------------------------Edge [1, 5] has untracked roots----------------------\n",
      "Tracking roots through path [1, 5]#1 from 1\n",
      "No roots to track from 5.\n",
      "--------------------------Edge [1, 5] has untracked roots----------------------\n",
      "Tracking roots through path [1, 5]#2 from 1\n",
      "Tracking roots through path [1, 5]#2 from 5\n",
      "All possible roots have been tracked. (for initial vertex 6 roots have been found)\n",
      "Known solutions: 6\n",
      "No new solutions were found:  +1 stop counter.\n",
      "<Augmenting graph...>\n",
      "Created vertex: 6\n",
      "Created edge [1, 6]#1  (k1: 0.85 + 0.76im k2: -0.65 + 0.63im)\n",
      "Created edge [1, 6]#2  (k1: -0.38 + 0.44im k2: 0.63 - 0.7im)\n",
      "-------------------Iteration5-------------------\n",
      "(History: 116\n",
      "Known solutions: 6\n",
      "<Applying static strategy...>\n",
      "--------------------------Edge [1, 6] has untracked roots----------------------\n",
      "Tracking roots through path [1, 6]#1 from 1\n",
      "No roots to track from 6.\n",
      "--------------------------Edge [1, 6] has untracked roots----------------------\n",
      "Tracking roots through path [1, 6]#2 from 1\n",
      "Tracking roots through path [1, 6]#2 from 6\n",
      "All possible roots have been tracked. (for initial vertex 6 roots have been found)\n",
      "Known solutions: 6\n",
      "No new solutions were found:  +1 stop counter.\n",
      "No new solutions were found in 3 iterations.\n",
      "<Stopping>\n",
      "Maximum number of iterations reached.\n"
     ]
    }
   ],
   "source": [
    "G = create_flower_graph((F,seed), 1, 2);\n",
    "dynamic_incremental_strategy(G, 3, augment_graph_petal)"
   ]
  },
  {
   "cell_type": "code",
   "execution_count": 172,
   "metadata": {},
   "outputs": [
    {
     "data": {
      "text/plain": [
       "Graph(Vertex[], Edge[], 0, Any[], 0, Int64[], Vector{Int64}[], Graph[])"
      ]
     },
     "execution_count": 172,
     "metadata": {},
     "output_type": "execute_result"
    }
   ],
   "source": [
    "G.history[1]"
   ]
  },
  {
   "cell_type": "markdown",
   "metadata": {},
   "source": [
    "# Plot graphs"
   ]
  },
  {
   "cell_type": "code",
   "execution_count": 52,
   "metadata": {},
   "outputs": [],
   "source": [
    "using Plots"
   ]
  },
  {
   "cell_type": "markdown",
   "metadata": {},
   "source": [
    "##### Auxiliary functions"
   ]
  },
  {
   "cell_type": "code",
   "execution_count": 286,
   "metadata": {},
   "outputs": [
    {
     "data": {
      "text/plain": [
       "comb (generic function with 1 method)"
      ]
     },
     "execution_count": 286,
     "metadata": {},
     "output_type": "execute_result"
    }
   ],
   "source": [
    "function vertex_index(G, vertex)\n",
    "    for i in 1:length(G.vertices)\n",
    "        if G.vertices[i] == vertex\n",
    "            return i\n",
    "        end\n",
    "    end\n",
    "    return -1\n",
    "end\n",
    "\n",
    "function count_edges_between_vertices(G, v1, v2)\n",
    "    count = 0\n",
    "    for i in 1:length(G.edges)\n",
    "        if G.edges[i].startV == v1 && G.edges[i].endV == v2\n",
    "            count += 1\n",
    "        end\n",
    "    end\n",
    "    return count\n",
    "end\n",
    "\n",
    "function generate_curved_line(x1,y1,x2,y2, num_points=100, p_schedule=0, schedule=[-0.2,0.2])\n",
    "    if p_schedule == 0 || p_schedule > 2\n",
    "        random_factor = rand(-0.2:0.01:0.2)\n",
    "    else \n",
    "        random_factor = schedule[p_schedule]\n",
    "    end\n",
    "    if x1 == x2\n",
    "        # Invert roles of x and y\n",
    "        x1,y1,x2,y2 = y1,x1,y2,x2\n",
    "    elseif x1 > x2\n",
    "        # Make sure x1 < x2\n",
    "        x1,y1,x2,y2 = x2,y2,x1,y1\n",
    "    end\n",
    "    x_values = range(x1, x2, length = num_points)\n",
    "    y_values = y1 .+ (y2 .- y1) * (x_values .- x1) / (x2 .- x1)\n",
    "\n",
    "    perpendicular_vector = [y2 - y1, x1 - x2] / sqrt((y2 - y1)^2 + (x1 - x2)^2) * random_factor\n",
    "\n",
    "    x_values = x_values .+ sin.(range(0,pi,length=num_points)).^1.3 .* perpendicular_vector[1]\n",
    "    y_values = y_values .+ sin.(range(0,pi,length=num_points)).^1.3 .* perpendicular_vector[2]\n",
    "\n",
    "    if y1 == y2\n",
    "        # Revert roles of x and y\n",
    "        x_values, y_values = y_values, x_values\n",
    "    end\n",
    "    return x_values, y_values\n",
    "end\n",
    "\n",
    "function generate_arc(point1, point2, num_points)\n",
    "    center = ((point1[1] + point2[1]) / 2, (point1[2] + point2[2]) / 2)\n",
    "    radius = sqrt((point2[1] - point1[1])^2 + (point2[2] - point1[2])^2) / 2\n",
    "    \n",
    "    angle_start = atan(point1[2] - center[2], point1[1] - center[1])\n",
    "    angle_end = atan(point2[2] - center[2], point2[1] - center[1])\n",
    "    \n",
    "    theta = range(angle_start, stop = angle_end, length = num_points)\n",
    "\n",
    "    x_values = center[1] .+ radius .* cos.(theta)\n",
    "    y_values = center[2] .+ radius .* sin.(theta)\n",
    "    \n",
    "    return x_values, y_values\n",
    "end\n",
    "\n",
    "function comb(n,m)\n",
    "    return Int(factorial(n) / (factorial(m) * factorial(n-m)))\n",
    "end"
   ]
  },
  {
   "cell_type": "code",
   "execution_count": 289,
   "metadata": {},
   "outputs": [
    {
     "data": {
      "text/plain": [
       "plot_flower_graph (generic function with 3 methods)"
      ]
     },
     "execution_count": 289,
     "metadata": {},
     "output_type": "execute_result"
    }
   ],
   "source": [
    "function plot_flower_graph(G, i, N_max=0)\n",
    "    G_state = G.history[i]\n",
    "    if N_max == 0\n",
    "        N = length(G_state.vertex_labels)\n",
    "    else \n",
    "        N = N_max\n",
    "    end\n",
    "    # Generate coordinates for the vertices\n",
    "    # Each vertex goes to a point in the unit circle\n",
    "    theta = 2*pi/N\n",
    "    x_coords = vcat([0.0], [cos(i*theta) for i in 1:(N-1)])\n",
    "    y_coords = vcat([0.0], [sin(i*theta) for i in 1:(N-1)])\n",
    "\n",
    "    plt = plot([],[], xlims=(-1.5,1.5), ylims=(-1.2,1.2), aspect_ratio=:equal, size=(500,500), showaxis=false, label=\"\")\n",
    "    \n",
    "    # Plot the vertices\n",
    "    for i in 1:N\n",
    "        if G_state.new_solution == i\n",
    "            scatter!([x_coords[i]], [y_coords[i]], color=:red, ms=10, ma=0.5, label=\"\")\n",
    "        else\n",
    "            scatter!([x_coords[i]], [y_coords[i]], color=:blue, ms=10, ma=0.5, label=\"\")\n",
    "        end\n",
    "    end\n",
    "\n",
    "\n",
    "    currently_tracking = length(G_state.path_tracking) > 0\n",
    "    # Plot the edges\n",
    "    for i in 1:length(G_state.edge_labels)\n",
    "        startV = G_state.edge_labels[i][1]\n",
    "        endV = G_state.edge_labels[i][2]\n",
    "        # Plot a segment between the vertices\n",
    "        if currently_tracking\n",
    "            if G_state.path_tracking[1] == G_state.edge_labels[i] && G_state.path_tracking[2] == G.edges[i].label_id\n",
    "                plot!(generate_curved_line(x_coords[startV],y_coords[startV], x_coords[endV], y_coords[endV], 100, G.edges[i].label_id), linecolor=:red, lw=2, legend=true, label = string(G.edges[i].label) *\"#\" * string(G.edges[i].label_id))\n",
    "            else\n",
    "                plot!(generate_curved_line(x_coords[startV],y_coords[startV], x_coords[endV], y_coords[endV], 100, G.edges[i].label_id), linecolor=:black, lw=2, legend=true, label = string(G.edges[i].label) *\"#\" * string(G.edges[i].label_id))\n",
    "            end\n",
    "        else\n",
    "            plot!(generate_curved_line(x_coords[startV],y_coords[startV], x_coords[endV], y_coords[endV], 100, G.edges[i].label_id), linecolor=:black, lw=2,  legend=true, label = string(G.edges[i].label) *\"#\" * string(G.edges[i].label_id))\n",
    "        end\n",
    "    end\n",
    "    return plt\n",
    "end"
   ]
  },
  {
   "cell_type": "markdown",
   "metadata": {},
   "source": [
    "##### Build animation from history"
   ]
  },
  {
   "cell_type": "code",
   "execution_count": null,
   "metadata": {},
   "outputs": [],
   "source": [
    "animate_G = Animation()\n",
    "n = length(G.history)\n",
    "N = length(G.history[end].vertex_labels)\n",
    "for i in range(1, n)\n",
    "    plot_flower_graph(G, i, N)\n",
    "    frame(animate_G)\n",
    "end"
   ]
  },
  {
   "cell_type": "code",
   "execution_count": 290,
   "metadata": {},
   "outputs": [
    {
     "name": "stderr",
     "output_type": "stream",
     "text": [
      "\u001b[36m\u001b[1m[ \u001b[22m\u001b[39m\u001b[36m\u001b[1mInfo: \u001b[22m\u001b[39mSaved animation to /home/guillem911/OneDrive/Mathematics/GTDA/GTDA project/Presentation/Julia scripts/flower_graph.gif\n"
     ]
    },
    {
     "data": {
      "text/html": [
       "<img src=\"data:image/gif;base64,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\" />"
      ],
      "text/plain": [
       "Plots.AnimatedGif(\"/home/guillem911/OneDrive/Mathematics/GTDA/GTDA project/Presentation/Julia scripts/flower_graph.gif\")"
      ]
     },
     "execution_count": 290,
     "metadata": {},
     "output_type": "execute_result"
    }
   ],
   "source": [
    "gif(animate_G, \"flower_graph.gif\", fps = 10)\n",
    "# n = length(G_test.history)\n",
    "\n",
    "# @gif for i in range(1, n)\n",
    "#     plot_flower_graph(G_test, i)\n",
    "# end"
   ]
  }
 ],
 "metadata": {
  "kernelspec": {
   "display_name": "Julia 1.9.2",
   "language": "julia",
   "name": "julia-1.9"
  },
  "language_info": {
   "file_extension": ".jl",
   "mimetype": "application/julia",
   "name": "julia",
   "version": "1.9.2"
  },
  "orig_nbformat": 4
 },
 "nbformat": 4,
 "nbformat_minor": 2
}
